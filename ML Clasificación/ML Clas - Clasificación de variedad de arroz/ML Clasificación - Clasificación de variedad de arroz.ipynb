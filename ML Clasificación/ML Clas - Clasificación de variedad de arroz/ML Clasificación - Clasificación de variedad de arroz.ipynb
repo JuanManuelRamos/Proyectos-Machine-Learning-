{
 "cells": [
  {
   "cell_type": "markdown",
   "metadata": {},
   "source": [
    "## Machine Learning - Problema de Clasificación\n",
    "\n",
    "En este ejercicio partiremos de un dataset de prueba para su análisis y la posterior creación de un modelo de clasificación que tratará de estimar la clase de una variable dependiente en casos futuros.\n",
    "Se seguirán los pasos recomendados de análisis de los datos, preprocesado, división de los datos, creación de modelos y evaluación de los mismos.\n",
    "\n",
    "Se usará **Jupyter Notebook** con **Python** como lenguaje de programación.\n",
    "\n",
    "<br><br>**Juan Manuel Ramos Pérez**"
   ]
  },
  {
   "cell_type": "markdown",
   "metadata": {},
   "source": [
    "========================================================================================================================"
   ]
  },
  {
   "cell_type": "markdown",
   "metadata": {},
   "source": [
    "## 1. Librerías\n",
    "\n",
    "Comenzamos estableciendo todas las librerías de Python que nos harán falta para la realización del ejercicio, ordenadas según su función."
   ]
  },
  {
   "cell_type": "code",
   "execution_count": 1,
   "metadata": {},
   "outputs": [],
   "source": [
    "# Tratamiento de datos\n",
    "# ========================================\n",
    "import numpy as np\n",
    "import pandas as pd\n",
    "\n",
    "\n",
    "# Gráficos\n",
    "# ========================================\n",
    "from matplotlib import pyplot as plt\n",
    "from matplotlib import style\n",
    "import matplotlib.ticker as ticker\n",
    "import seaborn as sns\n",
    "\n",
    "\n",
    "# Preprocesado\n",
    "# ========================================\n",
    "from sklearn.preprocessing import MinMaxScaler\n",
    "from sklearn.compose import ColumnTransformer\n",
    "from sklearn.preprocessing import OneHotEncoder\n",
    "from sklearn.preprocessing import StandardScaler\n",
    "from sklearn.compose import make_column_selector\n",
    "from sklearn.model_selection import train_test_split\n",
    "\n",
    "\n",
    "\n",
    "# Modelos\n",
    "# ========================================\n",
    "from sklearn.linear_model import LogisticRegression\n",
    "from sklearn.linear_model import RidgeClassifier\n",
    "from sklearn.neighbors import KNeighborsClassifier\n",
    "from sklearn import tree\n",
    "from sklearn.naive_bayes import GaussianNB\n",
    "from sklearn import svm\n",
    "\n",
    "from sklearn.model_selection import GridSearchCV\n",
    "\n",
    "\n",
    "# Métricas\n",
    "# ========================================\n",
    "from sklearn.metrics import accuracy_score\n",
    "from sklearn. metrics import classification_report\n",
    "from sklearn.metrics import precision_score, recall_score\n",
    "from sklearn.metrics import confusion_matrix\n",
    "from sklearn.metrics import roc_curve\n",
    "from sklearn.metrics import roc_auc_score\n",
    "from sklearn.metrics import make_scorer\n"
   ]
  },
  {
   "cell_type": "code",
   "execution_count": 2,
   "metadata": {},
   "outputs": [],
   "source": [
    "# Configuración\n",
    "# ========================================\n",
    "%matplotlib inline\n",
    "\n",
    "plt.rcParams.update({'figure.max_open_warning': 0})\n",
    "pd.set_option('display.max_rows', None)"
   ]
  },
  {
   "cell_type": "markdown",
   "metadata": {},
   "source": [
    "## 2. Carga del dataset\n",
    "\n",
    "Cargamos el dataset en el proyecto. Este se puede encontrar disponible en [UCI](https://archive.ics.uci.edu/ml/datasets/Rice+%28Cammeo+and+Osmancik%29).\n",
    "\n",
    "Este dataset está compuesto por 3810 instancias, y recoge diferentes características morfológicas de granos de arroz cultivados en Turquía, la variedad Osmancik y la variedad Cammeo. La idea es crear un modelo que sea capaz de predecir de forma precisa la variedad a la que pertenece un grano de arroz en función de las características mencionados.\n",
    "\n",
    "Las columnas de las que se compone el dataset son las siguientes:\n",
    "* Area (Area): numérica\n",
    "* Perímetro (Perimeter): numérica\n",
    "* Longitud del eje mayor (Major Axis Length): numérica\n",
    "* Longitud del eje menor (Minor Axis Length): numérica\n",
    "* Excentricidad (Eccentricity): numérica\n",
    "* Área convexa (Convex Area): numérica\n",
    "* Extensión (Extent): numérica\n",
    "* Clase (Class): categórica\n",
    "\n",
    "\n",
    "La variable \"Class\" será nuestra variable respuesta, o variable dependiente, aquella que queremos que nuestro modelo estime en datos futuros. Al tratarse de una variable categórica estamos ante un problema de clasificación, en el que tenemos como variables independientes o predictores numéricos."
   ]
  },
  {
   "cell_type": "code",
   "execution_count": 31,
   "metadata": {},
   "outputs": [
    {
     "data": {
      "text/html": [
       "<div>\n",
       "<style scoped>\n",
       "    .dataframe tbody tr th:only-of-type {\n",
       "        vertical-align: middle;\n",
       "    }\n",
       "\n",
       "    .dataframe tbody tr th {\n",
       "        vertical-align: top;\n",
       "    }\n",
       "\n",
       "    .dataframe thead th {\n",
       "        text-align: right;\n",
       "    }\n",
       "</style>\n",
       "<table border=\"1\" class=\"dataframe\">\n",
       "  <thead>\n",
       "    <tr style=\"text-align: right;\">\n",
       "      <th></th>\n",
       "      <th>AREA</th>\n",
       "      <th>PERIMETER</th>\n",
       "      <th>MAJORAXIS</th>\n",
       "      <th>MINORAXIS</th>\n",
       "      <th>ECCENTRICITY</th>\n",
       "      <th>CONVEX_AREA</th>\n",
       "      <th>EXTENT</th>\n",
       "      <th>CLASS</th>\n",
       "    </tr>\n",
       "  </thead>\n",
       "  <tbody>\n",
       "    <tr>\n",
       "      <th>0</th>\n",
       "      <td>15231</td>\n",
       "      <td>525.578979</td>\n",
       "      <td>229.749878</td>\n",
       "      <td>85.093788</td>\n",
       "      <td>0.928882</td>\n",
       "      <td>15617</td>\n",
       "      <td>0.572896</td>\n",
       "      <td>Cammeo</td>\n",
       "    </tr>\n",
       "    <tr>\n",
       "      <th>1</th>\n",
       "      <td>14656</td>\n",
       "      <td>494.311005</td>\n",
       "      <td>206.020065</td>\n",
       "      <td>91.730972</td>\n",
       "      <td>0.895405</td>\n",
       "      <td>15072</td>\n",
       "      <td>0.615436</td>\n",
       "      <td>Cammeo</td>\n",
       "    </tr>\n",
       "    <tr>\n",
       "      <th>2</th>\n",
       "      <td>14634</td>\n",
       "      <td>501.122009</td>\n",
       "      <td>214.106781</td>\n",
       "      <td>87.768288</td>\n",
       "      <td>0.912118</td>\n",
       "      <td>14954</td>\n",
       "      <td>0.693259</td>\n",
       "      <td>Cammeo</td>\n",
       "    </tr>\n",
       "    <tr>\n",
       "      <th>3</th>\n",
       "      <td>13176</td>\n",
       "      <td>458.342987</td>\n",
       "      <td>193.337387</td>\n",
       "      <td>87.448395</td>\n",
       "      <td>0.891861</td>\n",
       "      <td>13368</td>\n",
       "      <td>0.640669</td>\n",
       "      <td>Cammeo</td>\n",
       "    </tr>\n",
       "    <tr>\n",
       "      <th>4</th>\n",
       "      <td>14688</td>\n",
       "      <td>507.166992</td>\n",
       "      <td>211.743378</td>\n",
       "      <td>89.312454</td>\n",
       "      <td>0.906691</td>\n",
       "      <td>15262</td>\n",
       "      <td>0.646024</td>\n",
       "      <td>Cammeo</td>\n",
       "    </tr>\n",
       "    <tr>\n",
       "      <th>5</th>\n",
       "      <td>13479</td>\n",
       "      <td>477.015991</td>\n",
       "      <td>200.053055</td>\n",
       "      <td>86.650291</td>\n",
       "      <td>0.901328</td>\n",
       "      <td>13786</td>\n",
       "      <td>0.657897</td>\n",
       "      <td>Cammeo</td>\n",
       "    </tr>\n",
       "    <tr>\n",
       "      <th>6</th>\n",
       "      <td>15757</td>\n",
       "      <td>509.281006</td>\n",
       "      <td>207.296677</td>\n",
       "      <td>98.336136</td>\n",
       "      <td>0.880323</td>\n",
       "      <td>16150</td>\n",
       "      <td>0.589708</td>\n",
       "      <td>Cammeo</td>\n",
       "    </tr>\n",
       "    <tr>\n",
       "      <th>7</th>\n",
       "      <td>16405</td>\n",
       "      <td>526.570007</td>\n",
       "      <td>221.612518</td>\n",
       "      <td>95.436707</td>\n",
       "      <td>0.902521</td>\n",
       "      <td>16837</td>\n",
       "      <td>0.658888</td>\n",
       "      <td>Cammeo</td>\n",
       "    </tr>\n",
       "    <tr>\n",
       "      <th>8</th>\n",
       "      <td>14534</td>\n",
       "      <td>483.640991</td>\n",
       "      <td>196.650818</td>\n",
       "      <td>95.050682</td>\n",
       "      <td>0.875429</td>\n",
       "      <td>14932</td>\n",
       "      <td>0.649651</td>\n",
       "      <td>Cammeo</td>\n",
       "    </tr>\n",
       "    <tr>\n",
       "      <th>9</th>\n",
       "      <td>13485</td>\n",
       "      <td>471.570007</td>\n",
       "      <td>198.272644</td>\n",
       "      <td>87.727287</td>\n",
       "      <td>0.896789</td>\n",
       "      <td>13734</td>\n",
       "      <td>0.572320</td>\n",
       "      <td>Cammeo</td>\n",
       "    </tr>\n",
       "  </tbody>\n",
       "</table>\n",
       "</div>"
      ],
      "text/plain": [
       "    AREA   PERIMETER   MAJORAXIS  MINORAXIS  ECCENTRICITY  CONVEX_AREA  \\\n",
       "0  15231  525.578979  229.749878  85.093788      0.928882        15617   \n",
       "1  14656  494.311005  206.020065  91.730972      0.895405        15072   \n",
       "2  14634  501.122009  214.106781  87.768288      0.912118        14954   \n",
       "3  13176  458.342987  193.337387  87.448395      0.891861        13368   \n",
       "4  14688  507.166992  211.743378  89.312454      0.906691        15262   \n",
       "5  13479  477.015991  200.053055  86.650291      0.901328        13786   \n",
       "6  15757  509.281006  207.296677  98.336136      0.880323        16150   \n",
       "7  16405  526.570007  221.612518  95.436707      0.902521        16837   \n",
       "8  14534  483.640991  196.650818  95.050682      0.875429        14932   \n",
       "9  13485  471.570007  198.272644  87.727287      0.896789        13734   \n",
       "\n",
       "     EXTENT   CLASS  \n",
       "0  0.572896  Cammeo  \n",
       "1  0.615436  Cammeo  \n",
       "2  0.693259  Cammeo  \n",
       "3  0.640669  Cammeo  \n",
       "4  0.646024  Cammeo  \n",
       "5  0.657897  Cammeo  \n",
       "6  0.589708  Cammeo  \n",
       "7  0.658888  Cammeo  \n",
       "8  0.649651  Cammeo  \n",
       "9  0.572320  Cammeo  "
      ]
     },
     "execution_count": 31,
     "metadata": {},
     "output_type": "execute_result"
    }
   ],
   "source": [
    "df = pd.read_excel('data/Rice_Osmancik_Cammeo_Dataset.xlsx')\n",
    "df.head(10)"
   ]
  },
  {
   "cell_type": "markdown",
   "metadata": {},
   "source": [
    "## 3. Análisis de los datos\n",
    "\n",
    "En esta parte del ejercicio nos centraremos en analizar los datos de los que disponemos. Comprobar su distribución en el dataset, averiguar si se están reconociendo de forma adecuada, duplicidad, datos faltantes, así como decidir si debemos realizar algún o algunos cambios sobre ellos en el apartado de preprocesado de cara a construir el modelo de predicción."
   ]
  },
  {
   "cell_type": "markdown",
   "metadata": {},
   "source": [
    "#### 3.1. TIPOS DE DATOS\n",
    "\n",
    "En primer lugar comprobamos el tipo de dato interpretado por el dataframe de Pandas, y verificamos que todo está como se espera."
   ]
  },
  {
   "cell_type": "code",
   "execution_count": 4,
   "metadata": {},
   "outputs": [
    {
     "data": {
      "text/plain": [
       "AREA              int64\n",
       "PERIMETER       float64\n",
       "MAJORAXIS       float64\n",
       "MINORAXIS       float64\n",
       "ECCENTRICITY    float64\n",
       "CONVEX_AREA       int64\n",
       "EXTENT          float64\n",
       "CLASS            object\n",
       "dtype: object"
      ]
     },
     "execution_count": 4,
     "metadata": {},
     "output_type": "execute_result"
    }
   ],
   "source": [
    "df.dtypes"
   ]
  },
  {
   "cell_type": "markdown",
   "metadata": {},
   "source": [
    "Todas las columnas tienen el tipo de dato esperado."
   ]
  },
  {
   "cell_type": "markdown",
   "metadata": {},
   "source": [
    "#### 3.2. VALORES FALTANTES\n",
    "\n",
    "Comprobamos si hay celdas vacías en alguno de los registros. \n",
    "\n",
    "Esta comprobación es importante, ya que la existencia de valores nulos o vacíos pueden llegar a tener un impacto negativo considerable en el entrenamiento del modelo. En caso de que los hubiese tendríamos que decidir de qué forma lidiar con ellos, o bien eliminando el registro completo del dataset o bien sustituyendo el valor vacío por otro."
   ]
  },
  {
   "cell_type": "code",
   "execution_count": 5,
   "metadata": {},
   "outputs": [
    {
     "data": {
      "text/plain": [
       "AREA            0\n",
       "PERIMETER       0\n",
       "MAJORAXIS       0\n",
       "MINORAXIS       0\n",
       "ECCENTRICITY    0\n",
       "CONVEX_AREA     0\n",
       "EXTENT          0\n",
       "CLASS           0\n",
       "dtype: int64"
      ]
     },
     "execution_count": 5,
     "metadata": {},
     "output_type": "execute_result"
    }
   ],
   "source": [
    "df.isna().sum().sort_values()"
   ]
  },
  {
   "cell_type": "markdown",
   "metadata": {},
   "source": [
    "No faltan datos"
   ]
  },
  {
   "cell_type": "markdown",
   "metadata": {},
   "source": [
    "#### 3.3. FILAS DUPLICADAS"
   ]
  },
  {
   "cell_type": "code",
   "execution_count": 6,
   "metadata": {},
   "outputs": [
    {
     "data": {
      "text/html": [
       "<div>\n",
       "<style scoped>\n",
       "    .dataframe tbody tr th:only-of-type {\n",
       "        vertical-align: middle;\n",
       "    }\n",
       "\n",
       "    .dataframe tbody tr th {\n",
       "        vertical-align: top;\n",
       "    }\n",
       "\n",
       "    .dataframe thead th {\n",
       "        text-align: right;\n",
       "    }\n",
       "</style>\n",
       "<table border=\"1\" class=\"dataframe\">\n",
       "  <thead>\n",
       "    <tr style=\"text-align: right;\">\n",
       "      <th></th>\n",
       "      <th>AREA</th>\n",
       "      <th>PERIMETER</th>\n",
       "      <th>MAJORAXIS</th>\n",
       "      <th>MINORAXIS</th>\n",
       "      <th>ECCENTRICITY</th>\n",
       "      <th>CONVEX_AREA</th>\n",
       "      <th>EXTENT</th>\n",
       "      <th>CLASS</th>\n",
       "    </tr>\n",
       "  </thead>\n",
       "  <tbody>\n",
       "  </tbody>\n",
       "</table>\n",
       "</div>"
      ],
      "text/plain": [
       "Empty DataFrame\n",
       "Columns: [AREA, PERIMETER, MAJORAXIS, MINORAXIS, ECCENTRICITY, CONVEX_AREA, EXTENT, CLASS]\n",
       "Index: []"
      ]
     },
     "execution_count": 6,
     "metadata": {},
     "output_type": "execute_result"
    }
   ],
   "source": [
    "df[df.duplicated()]"
   ]
  },
  {
   "cell_type": "markdown",
   "metadata": {},
   "source": [
    "#### 3.4. SEPARACIÓN DE VARIABLES\n",
    "\n",
    "Creamos listas para separar las variables independientes en características, o features, y la variable dependiente o label.\n",
    "\n",
    "Esto nos va a permitir hacer referencia a ellas más adelante de forma más cómoda."
   ]
  },
  {
   "cell_type": "code",
   "execution_count": 7,
   "metadata": {},
   "outputs": [],
   "source": [
    "features = ['AREA','PERIMETER','MAJORAXIS','MINORAXIS','ECCENTRICITY','CONVEX_AREA','EXTENT']\n",
    "label = 'CLASS'"
   ]
  },
  {
   "cell_type": "markdown",
   "metadata": {},
   "source": [
    "#### 3.5. VARIABLE RESPUESTA"
   ]
  },
  {
   "cell_type": "code",
   "execution_count": 8,
   "metadata": {},
   "outputs": [
    {
     "data": {
      "image/png": "[encoded data removed]",
      "text/plain": [
       "<Figure size 432x288 with 1 Axes>"
      ]
     },
     "metadata": {
      "needs_background": "light"
     },
     "output_type": "display_data"
    }
   ],
   "source": [
    "sns.countplot(x=df['CLASS'], label=\"Count\", palette  = \"pastel\",)\n",
    "plt.show()"
   ]
  },
  {
   "cell_type": "markdown",
   "metadata": {},
   "source": [
    "#### 3.6. VARIABLES PREDICTORAS"
   ]
  },
  {
   "cell_type": "markdown",
   "metadata": {},
   "source": [
    "En este caso coincide que todas las variables predictoras son numéricas y la variable respuesta es categórica."
   ]
  },
  {
   "cell_type": "code",
   "execution_count": 9,
   "metadata": {},
   "outputs": [
    {
     "data": {
      "text/html": [
       "<div>\n",
       "<style scoped>\n",
       "    .dataframe tbody tr th:only-of-type {\n",
       "        vertical-align: middle;\n",
       "    }\n",
       "\n",
       "    .dataframe tbody tr th {\n",
       "        vertical-align: top;\n",
       "    }\n",
       "\n",
       "    .dataframe thead th {\n",
       "        text-align: right;\n",
       "    }\n",
       "</style>\n",
       "<table border=\"1\" class=\"dataframe\">\n",
       "  <thead>\n",
       "    <tr style=\"text-align: right;\">\n",
       "      <th></th>\n",
       "      <th>AREA</th>\n",
       "      <th>PERIMETER</th>\n",
       "      <th>MAJORAXIS</th>\n",
       "      <th>MINORAXIS</th>\n",
       "      <th>ECCENTRICITY</th>\n",
       "      <th>CONVEX_AREA</th>\n",
       "      <th>EXTENT</th>\n",
       "    </tr>\n",
       "  </thead>\n",
       "  <tbody>\n",
       "    <tr>\n",
       "      <th>count</th>\n",
       "      <td>3810.000000</td>\n",
       "      <td>3810.000000</td>\n",
       "      <td>3810.000000</td>\n",
       "      <td>3810.000000</td>\n",
       "      <td>3810.000000</td>\n",
       "      <td>3810.000000</td>\n",
       "      <td>3810.000000</td>\n",
       "    </tr>\n",
       "    <tr>\n",
       "      <th>mean</th>\n",
       "      <td>12667.727559</td>\n",
       "      <td>454.239180</td>\n",
       "      <td>188.776222</td>\n",
       "      <td>86.313750</td>\n",
       "      <td>0.886871</td>\n",
       "      <td>12952.496850</td>\n",
       "      <td>0.661934</td>\n",
       "    </tr>\n",
       "    <tr>\n",
       "      <th>std</th>\n",
       "      <td>1732.367706</td>\n",
       "      <td>35.597081</td>\n",
       "      <td>17.448679</td>\n",
       "      <td>5.729817</td>\n",
       "      <td>0.020818</td>\n",
       "      <td>1776.972042</td>\n",
       "      <td>0.077239</td>\n",
       "    </tr>\n",
       "    <tr>\n",
       "      <th>min</th>\n",
       "      <td>7551.000000</td>\n",
       "      <td>359.100006</td>\n",
       "      <td>145.264465</td>\n",
       "      <td>59.532406</td>\n",
       "      <td>0.777233</td>\n",
       "      <td>7723.000000</td>\n",
       "      <td>0.497413</td>\n",
       "    </tr>\n",
       "    <tr>\n",
       "      <th>25%</th>\n",
       "      <td>11370.500000</td>\n",
       "      <td>426.144753</td>\n",
       "      <td>174.353855</td>\n",
       "      <td>82.731695</td>\n",
       "      <td>0.872402</td>\n",
       "      <td>11626.250000</td>\n",
       "      <td>0.598862</td>\n",
       "    </tr>\n",
       "    <tr>\n",
       "      <th>50%</th>\n",
       "      <td>12421.500000</td>\n",
       "      <td>448.852493</td>\n",
       "      <td>185.810059</td>\n",
       "      <td>86.434647</td>\n",
       "      <td>0.889050</td>\n",
       "      <td>12706.500000</td>\n",
       "      <td>0.645361</td>\n",
       "    </tr>\n",
       "    <tr>\n",
       "      <th>75%</th>\n",
       "      <td>13950.000000</td>\n",
       "      <td>483.683746</td>\n",
       "      <td>203.550438</td>\n",
       "      <td>90.143677</td>\n",
       "      <td>0.902588</td>\n",
       "      <td>14284.000000</td>\n",
       "      <td>0.726562</td>\n",
       "    </tr>\n",
       "    <tr>\n",
       "      <th>max</th>\n",
       "      <td>18913.000000</td>\n",
       "      <td>548.445984</td>\n",
       "      <td>239.010498</td>\n",
       "      <td>107.542450</td>\n",
       "      <td>0.948007</td>\n",
       "      <td>19099.000000</td>\n",
       "      <td>0.861050</td>\n",
       "    </tr>\n",
       "  </tbody>\n",
       "</table>\n",
       "</div>"
      ],
      "text/plain": [
       "               AREA    PERIMETER    MAJORAXIS    MINORAXIS  ECCENTRICITY  \\\n",
       "count   3810.000000  3810.000000  3810.000000  3810.000000   3810.000000   \n",
       "mean   12667.727559   454.239180   188.776222    86.313750      0.886871   \n",
       "std     1732.367706    35.597081    17.448679     5.729817      0.020818   \n",
       "min     7551.000000   359.100006   145.264465    59.532406      0.777233   \n",
       "25%    11370.500000   426.144753   174.353855    82.731695      0.872402   \n",
       "50%    12421.500000   448.852493   185.810059    86.434647      0.889050   \n",
       "75%    13950.000000   483.683746   203.550438    90.143677      0.902588   \n",
       "max    18913.000000   548.445984   239.010498   107.542450      0.948007   \n",
       "\n",
       "        CONVEX_AREA       EXTENT  \n",
       "count   3810.000000  3810.000000  \n",
       "mean   12952.496850     0.661934  \n",
       "std     1776.972042     0.077239  \n",
       "min     7723.000000     0.497413  \n",
       "25%    11626.250000     0.598862  \n",
       "50%    12706.500000     0.645361  \n",
       "75%    14284.000000     0.726562  \n",
       "max    19099.000000     0.861050  "
      ]
     },
     "execution_count": 9,
     "metadata": {},
     "output_type": "execute_result"
    }
   ],
   "source": [
    "df[features].describe()"
   ]
  },
  {
   "cell_type": "markdown",
   "metadata": {},
   "source": [
    "#### 3.6.1. GRÁFICAS DE DISTRIBUCIÓN PARA LAS VARIABLES NUMÉRICAS\n",
    "\n",
    "Crearemos gráficas para visualizar la distribución de cada una de las variables en el dataset. Mediante este análisis podremos comprobar los valores que toman las variables en general. Gracias a esta observación se pueden tomar decisiones como prescindir de alguna variable, transformarla a categórica, etc."
   ]
  },
  {
   "cell_type": "code",
   "execution_count": 10,
   "metadata": {},
   "outputs": [
    {
     "data": {
      "image/png": "[encoded data removed]",
      "text/plain": [
       "<Figure size 1080x720 with 7 Axes>"
      ]
     },
     "metadata": {
      "needs_background": "light"
     },
     "output_type": "display_data"
    }
   ],
   "source": [
    "fig, axes = plt.subplots(nrows=3, ncols=3, figsize=(15, 10))\n",
    "axes = axes.flat\n",
    "\n",
    "for i, colum in enumerate(features):\n",
    "    sns.histplot(\n",
    "        data    = df,\n",
    "        x       = colum,\n",
    "        stat    = \"count\",\n",
    "        kde     = True,\n",
    "        color   = (list(plt.rcParams['axes.prop_cycle'])*2)[i][\"color\"],\n",
    "        line_kws= {'linewidth': 2},\n",
    "        alpha   = 0.3,\n",
    "        ax      = axes[i]\n",
    "    )\n",
    "    axes[i].set_title(colum, fontsize = 7, fontweight = \"bold\")\n",
    "    axes[i].tick_params(labelsize = 6)\n",
    "    axes[i].set_xlabel(\"\")\n",
    "    \n",
    "# Se eliminan los axes vacíos\n",
    "for i in [7, 8]:\n",
    "    fig.delaxes(axes[i])\n",
    "    \n",
    "fig.tight_layout()\n",
    "plt.subplots_adjust(top = 0.9)\n",
    "fig.suptitle('Distribución variables numéricas', fontsize = 10, fontweight = \"bold\");"
   ]
  },
  {
   "cell_type": "markdown",
   "metadata": {},
   "source": [
    "#### 3.6.2. DISTRIBUCIÓN DE LAS VARIABLES PREDICTORAS RESPECTO A LA VARIABLE RESPUESTA \n",
    "\n",
    "En este apartado comprobaremos la relación existente entre las variables indepEndientes con respecto a la variable dependiente. "
   ]
  },
  {
   "cell_type": "code",
   "execution_count": 11,
   "metadata": {},
   "outputs": [
    {
     "data": {
      "image/png": "[encoded data removed]",
      "text/plain": [
       "<Figure size 720x1440 with 7 Axes>"
      ]
     },
     "metadata": {
      "needs_background": "light"
     },
     "output_type": "display_data"
    }
   ],
   "source": [
    "fig, axes = plt.subplots(nrows=3, ncols=3, figsize=(10, 20))\n",
    "axes = axes.flat\n",
    "\n",
    "for i, column in enumerate(features):\n",
    "    sns.boxplot(\n",
    "        data    = df,\n",
    "        y       = column,\n",
    "        x       = df['CLASS'],\n",
    "        color   = (list(plt.rcParams['axes.prop_cycle'])*2)[i][\"color\"],\n",
    "        saturation   = 0.5,\n",
    "        ax      = axes[i]\n",
    "    )\n",
    "    axes[i].tick_params(labelsize = 6)\n",
    "    axes[i].set_xlabel(\"Class\")\n",
    "    \n",
    "# Se eliminan los axes vacíos\n",
    "for i in [7, 8]:\n",
    "    fig.delaxes(axes[i])\n",
    "    \n",
    "fig.tight_layout()\n",
    "plt.subplots_adjust(top = 0.9)\n",
    "fig.suptitle('Distribución variables predictoras', fontsize = 10, fontweight = \"bold\");"
   ]
  },
  {
   "cell_type": "markdown",
   "metadata": {},
   "source": [
    "Mediante estas gráficas de cajas podemos observar que en general hay una buena correlación entre las variables predictoras y la variable respuesta. Quizás las dos variables en las que se visualiza una menor correlación es en la variable **Extent** y **Minor Axis**."
   ]
  },
  {
   "cell_type": "markdown",
   "metadata": {},
   "source": [
    "#### 3.6.3. TRANSFORMAR LA VARIABLE RESPUESTA A NUMÉRICA\n",
    "\n",
    "Para poder hacer un cálculo de correlación entre las variables predictoras y la variable respuesta más exhaustivo, transformaremos la variable respuesta de categórica a numérica, asignando el valor 0 a la variedad **Cammeo** y 1 a la variedad **Osmancik**."
   ]
  },
  {
   "cell_type": "code",
   "execution_count": 12,
   "metadata": {},
   "outputs": [
    {
     "name": "stdout",
     "output_type": "stream",
     "text": [
      "<class 'pandas.core.frame.DataFrame'>\n",
      "RangeIndex: 3810 entries, 0 to 3809\n",
      "Data columns (total 8 columns):\n",
      " #   Column        Non-Null Count  Dtype  \n",
      "---  ------        --------------  -----  \n",
      " 0   AREA          3810 non-null   int64  \n",
      " 1   PERIMETER     3810 non-null   float64\n",
      " 2   MAJORAXIS     3810 non-null   float64\n",
      " 3   MINORAXIS     3810 non-null   float64\n",
      " 4   ECCENTRICITY  3810 non-null   float64\n",
      " 5   CONVEX_AREA   3810 non-null   int64  \n",
      " 6   EXTENT        3810 non-null   float64\n",
      " 7   CLASS         3810 non-null   int64  \n",
      "dtypes: float64(5), int64(3)\n",
      "memory usage: 238.2 KB\n"
     ]
    }
   ],
   "source": [
    "for x in df.index:\n",
    "    if df.loc[x, \"CLASS\"] == 'Cammeo':\n",
    "        df.loc[x, \"CLASS\"] = 0\n",
    "    elif df.loc[x, \"CLASS\"] == 'Osmancik':\n",
    "        df.loc[x, \"CLASS\"] = 1\n",
    "       \n",
    "df['CLASS'] = pd.to_numeric(df['CLASS'])\n",
    "df.info()"
   ]
  },
  {
   "cell_type": "markdown",
   "metadata": {},
   "source": [
    "#### 3.6.4. CORRELACIÓN RESPECTO A LA VARIABLE RESPUESTA"
   ]
  },
  {
   "cell_type": "code",
   "execution_count": 13,
   "metadata": {},
   "outputs": [
    {
     "data": {
      "image/png": "[encoded data removed]",
      "text/plain": [
       "<Figure size 648x360 with 7 Axes>"
      ]
     },
     "metadata": {
      "needs_background": "light"
     },
     "output_type": "display_data"
    }
   ],
   "source": [
    "fig, axes = plt.subplots(nrows=3, ncols=3, figsize=(9, 5))\n",
    "axes = axes.flat\n",
    "\n",
    "for i, colum in enumerate(features):\n",
    "    sns.regplot(\n",
    "        x           = df[colum],\n",
    "        y           = df['CLASS'],\n",
    "        color       = \"gray\",\n",
    "        marker      = '.',\n",
    "        scatter_kws = {\"alpha\":0.4},\n",
    "        line_kws    = {\"color\":\"r\",\"alpha\":0.7},\n",
    "        ax          = axes[i]\n",
    "    )\n",
    "    axes[i].set_title(f\"CLASS vs {colum}\", fontsize = 7, fontweight = \"bold\")\n",
    "    axes[i].yaxis.set_major_formatter(ticker.EngFormatter())\n",
    "    axes[i].xaxis.set_major_formatter(ticker.EngFormatter())\n",
    "    axes[i].tick_params(labelsize = 6)\n",
    "    axes[i].set_xlabel(\"\")\n",
    "    axes[i].set_ylabel(\"\")\n",
    "\n",
    "# Se eliminan los axes vacíos\n",
    "for i in [7, 8]:\n",
    "    fig.delaxes(axes[i])\n",
    "    \n",
    "fig.tight_layout()\n",
    "plt.subplots_adjust(top=0.9)\n",
    "fig.suptitle('Correlación con CLASS', fontsize = 10, fontweight = \"bold\");"
   ]
  },
  {
   "cell_type": "code",
   "execution_count": 14,
   "metadata": {},
   "outputs": [
    {
     "data": {
      "text/html": [
       "<style  type=\"text/css\" >\n",
       "#T_c77eebc0_ebe8_11eb_b917_18c04d3411f5row0_col0,#T_c77eebc0_ebe8_11eb_b917_18c04d3411f5row0_col5,#T_c77eebc0_ebe8_11eb_b917_18c04d3411f5row1_col1,#T_c77eebc0_ebe8_11eb_b917_18c04d3411f5row2_col2,#T_c77eebc0_ebe8_11eb_b917_18c04d3411f5row3_col3,#T_c77eebc0_ebe8_11eb_b917_18c04d3411f5row4_col4,#T_c77eebc0_ebe8_11eb_b917_18c04d3411f5row5_col0,#T_c77eebc0_ebe8_11eb_b917_18c04d3411f5row5_col5,#T_c77eebc0_ebe8_11eb_b917_18c04d3411f5row6_col6,#T_c77eebc0_ebe8_11eb_b917_18c04d3411f5row7_col7{\n",
       "            background-color:  #023858;\n",
       "            color:  #f1f1f1;\n",
       "        }#T_c77eebc0_ebe8_11eb_b917_18c04d3411f5row0_col1,#T_c77eebc0_ebe8_11eb_b917_18c04d3411f5row1_col0,#T_c77eebc0_ebe8_11eb_b917_18c04d3411f5row1_col5,#T_c77eebc0_ebe8_11eb_b917_18c04d3411f5row5_col1{\n",
       "            background-color:  #023c5f;\n",
       "            color:  #f1f1f1;\n",
       "        }#T_c77eebc0_ebe8_11eb_b917_18c04d3411f5row0_col2,#T_c77eebc0_ebe8_11eb_b917_18c04d3411f5row5_col2{\n",
       "            background-color:  #03466e;\n",
       "            color:  #f1f1f1;\n",
       "        }#T_c77eebc0_ebe8_11eb_b917_18c04d3411f5row0_col3,#T_c77eebc0_ebe8_11eb_b917_18c04d3411f5row5_col3{\n",
       "            background-color:  #045f95;\n",
       "            color:  #f1f1f1;\n",
       "        }#T_c77eebc0_ebe8_11eb_b917_18c04d3411f5row0_col4,#T_c77eebc0_ebe8_11eb_b917_18c04d3411f5row5_col4{\n",
       "            background-color:  #4697c4;\n",
       "            color:  #000000;\n",
       "        }#T_c77eebc0_ebe8_11eb_b917_18c04d3411f5row0_col6{\n",
       "            background-color:  #eee8f3;\n",
       "            color:  #000000;\n",
       "        }#T_c77eebc0_ebe8_11eb_b917_18c04d3411f5row0_col7,#T_c77eebc0_ebe8_11eb_b917_18c04d3411f5row2_col6{\n",
       "            background-color:  #f8f1f8;\n",
       "            color:  #000000;\n",
       "        }#T_c77eebc0_ebe8_11eb_b917_18c04d3411f5row1_col2,#T_c77eebc0_ebe8_11eb_b917_18c04d3411f5row2_col1{\n",
       "            background-color:  #023b5d;\n",
       "            color:  #f1f1f1;\n",
       "        }#T_c77eebc0_ebe8_11eb_b917_18c04d3411f5row1_col3{\n",
       "            background-color:  #0d75b3;\n",
       "            color:  #f1f1f1;\n",
       "        }#T_c77eebc0_ebe8_11eb_b917_18c04d3411f5row1_col4{\n",
       "            background-color:  #1379b5;\n",
       "            color:  #f1f1f1;\n",
       "        }#T_c77eebc0_ebe8_11eb_b917_18c04d3411f5row1_col6,#T_c77eebc0_ebe8_11eb_b917_18c04d3411f5row4_col3{\n",
       "            background-color:  #f7f0f7;\n",
       "            color:  #000000;\n",
       "        }#T_c77eebc0_ebe8_11eb_b917_18c04d3411f5row1_col7{\n",
       "            background-color:  #fef6fa;\n",
       "            color:  #000000;\n",
       "        }#T_c77eebc0_ebe8_11eb_b917_18c04d3411f5row2_col0,#T_c77eebc0_ebe8_11eb_b917_18c04d3411f5row2_col5{\n",
       "            background-color:  #03476f;\n",
       "            color:  #f1f1f1;\n",
       "        }#T_c77eebc0_ebe8_11eb_b917_18c04d3411f5row2_col3{\n",
       "            background-color:  #4295c3;\n",
       "            color:  #000000;\n",
       "        }#T_c77eebc0_ebe8_11eb_b917_18c04d3411f5row2_col4{\n",
       "            background-color:  #04649d;\n",
       "            color:  #f1f1f1;\n",
       "        }#T_c77eebc0_ebe8_11eb_b917_18c04d3411f5row2_col7,#T_c77eebc0_ebe8_11eb_b917_18c04d3411f5row4_col6,#T_c77eebc0_ebe8_11eb_b917_18c04d3411f5row7_col0,#T_c77eebc0_ebe8_11eb_b917_18c04d3411f5row7_col1,#T_c77eebc0_ebe8_11eb_b917_18c04d3411f5row7_col2,#T_c77eebc0_ebe8_11eb_b917_18c04d3411f5row7_col3,#T_c77eebc0_ebe8_11eb_b917_18c04d3411f5row7_col4,#T_c77eebc0_ebe8_11eb_b917_18c04d3411f5row7_col5{\n",
       "            background-color:  #fff7fb;\n",
       "            color:  #000000;\n",
       "        }#T_c77eebc0_ebe8_11eb_b917_18c04d3411f5row3_col0,#T_c77eebc0_ebe8_11eb_b917_18c04d3411f5row3_col5{\n",
       "            background-color:  #04598c;\n",
       "            color:  #f1f1f1;\n",
       "        }#T_c77eebc0_ebe8_11eb_b917_18c04d3411f5row3_col1{\n",
       "            background-color:  #0568a3;\n",
       "            color:  #f1f1f1;\n",
       "        }#T_c77eebc0_ebe8_11eb_b917_18c04d3411f5row3_col2{\n",
       "            background-color:  #187cb6;\n",
       "            color:  #000000;\n",
       "        }#T_c77eebc0_ebe8_11eb_b917_18c04d3411f5row3_col4{\n",
       "            background-color:  #dfddec;\n",
       "            color:  #000000;\n",
       "        }#T_c77eebc0_ebe8_11eb_b917_18c04d3411f5row3_col6{\n",
       "            background-color:  #d8d7e9;\n",
       "            color:  #000000;\n",
       "        }#T_c77eebc0_ebe8_11eb_b917_18c04d3411f5row3_col7{\n",
       "            background-color:  #d0d1e6;\n",
       "            color:  #000000;\n",
       "        }#T_c77eebc0_ebe8_11eb_b917_18c04d3411f5row4_col0{\n",
       "            background-color:  #358fc0;\n",
       "            color:  #000000;\n",
       "        }#T_c77eebc0_ebe8_11eb_b917_18c04d3411f5row4_col1{\n",
       "            background-color:  #0570b0;\n",
       "            color:  #f1f1f1;\n",
       "        }#T_c77eebc0_ebe8_11eb_b917_18c04d3411f5row4_col2{\n",
       "            background-color:  #046096;\n",
       "            color:  #f1f1f1;\n",
       "        }#T_c77eebc0_ebe8_11eb_b917_18c04d3411f5row4_col5{\n",
       "            background-color:  #348ebf;\n",
       "            color:  #000000;\n",
       "        }#T_c77eebc0_ebe8_11eb_b917_18c04d3411f5row4_col7{\n",
       "            background-color:  #ebe6f2;\n",
       "            color:  #000000;\n",
       "        }#T_c77eebc0_ebe8_11eb_b917_18c04d3411f5row5_col6{\n",
       "            background-color:  #eee9f3;\n",
       "            color:  #000000;\n",
       "        }#T_c77eebc0_ebe8_11eb_b917_18c04d3411f5row5_col7{\n",
       "            background-color:  #f9f2f8;\n",
       "            color:  #000000;\n",
       "        }#T_c77eebc0_ebe8_11eb_b917_18c04d3411f5row6_col0,#T_c77eebc0_ebe8_11eb_b917_18c04d3411f5row6_col5{\n",
       "            background-color:  #9fbad9;\n",
       "            color:  #000000;\n",
       "        }#T_c77eebc0_ebe8_11eb_b917_18c04d3411f5row6_col1{\n",
       "            background-color:  #a7bddb;\n",
       "            color:  #000000;\n",
       "        }#T_c77eebc0_ebe8_11eb_b917_18c04d3411f5row6_col2{\n",
       "            background-color:  #a5bddb;\n",
       "            color:  #000000;\n",
       "        }#T_c77eebc0_ebe8_11eb_b917_18c04d3411f5row6_col3{\n",
       "            background-color:  #bbc7e0;\n",
       "            color:  #000000;\n",
       "        }#T_c77eebc0_ebe8_11eb_b917_18c04d3411f5row6_col4{\n",
       "            background-color:  #d2d2e7;\n",
       "            color:  #000000;\n",
       "        }#T_c77eebc0_ebe8_11eb_b917_18c04d3411f5row6_col7{\n",
       "            background-color:  #6ba5cd;\n",
       "            color:  #000000;\n",
       "        }#T_c77eebc0_ebe8_11eb_b917_18c04d3411f5row7_col6{\n",
       "            background-color:  #cccfe5;\n",
       "            color:  #000000;\n",
       "        }</style><table id=\"T_c77eebc0_ebe8_11eb_b917_18c04d3411f5\" ><thead>    <tr>        <th class=\"blank level0\" ></th>        <th class=\"col_heading level0 col0\" >AREA</th>        <th class=\"col_heading level0 col1\" >PERIMETER</th>        <th class=\"col_heading level0 col2\" >MAJORAXIS</th>        <th class=\"col_heading level0 col3\" >MINORAXIS</th>        <th class=\"col_heading level0 col4\" >ECCENTRICITY</th>        <th class=\"col_heading level0 col5\" >CONVEX_AREA</th>        <th class=\"col_heading level0 col6\" >EXTENT</th>        <th class=\"col_heading level0 col7\" >CLASS</th>    </tr></thead><tbody>\n",
       "                <tr>\n",
       "                        <th id=\"T_c77eebc0_ebe8_11eb_b917_18c04d3411f5level0_row0\" class=\"row_heading level0 row0\" >AREA</th>\n",
       "                        <td id=\"T_c77eebc0_ebe8_11eb_b917_18c04d3411f5row0_col0\" class=\"data row0 col0\" >1.000000</td>\n",
       "                        <td id=\"T_c77eebc0_ebe8_11eb_b917_18c04d3411f5row0_col1\" class=\"data row0 col1\" >0.966000</td>\n",
       "                        <td id=\"T_c77eebc0_ebe8_11eb_b917_18c04d3411f5row0_col2\" class=\"data row0 col2\" >0.903000</td>\n",
       "                        <td id=\"T_c77eebc0_ebe8_11eb_b917_18c04d3411f5row0_col3\" class=\"data row0 col3\" >0.788000</td>\n",
       "                        <td id=\"T_c77eebc0_ebe8_11eb_b917_18c04d3411f5row0_col4\" class=\"data row0 col4\" >0.352000</td>\n",
       "                        <td id=\"T_c77eebc0_ebe8_11eb_b917_18c04d3411f5row0_col5\" class=\"data row0 col5\" >0.999000</td>\n",
       "                        <td id=\"T_c77eebc0_ebe8_11eb_b917_18c04d3411f5row0_col6\" class=\"data row0 col6\" >-0.061000</td>\n",
       "                        <td id=\"T_c77eebc0_ebe8_11eb_b917_18c04d3411f5row0_col7\" class=\"data row0 col7\" >-0.746000</td>\n",
       "            </tr>\n",
       "            <tr>\n",
       "                        <th id=\"T_c77eebc0_ebe8_11eb_b917_18c04d3411f5level0_row1\" class=\"row_heading level0 row1\" >PERIMETER</th>\n",
       "                        <td id=\"T_c77eebc0_ebe8_11eb_b917_18c04d3411f5row1_col0\" class=\"data row1 col0\" >0.966000</td>\n",
       "                        <td id=\"T_c77eebc0_ebe8_11eb_b917_18c04d3411f5row1_col1\" class=\"data row1 col1\" >1.000000</td>\n",
       "                        <td id=\"T_c77eebc0_ebe8_11eb_b917_18c04d3411f5row1_col2\" class=\"data row1 col2\" >0.972000</td>\n",
       "                        <td id=\"T_c77eebc0_ebe8_11eb_b917_18c04d3411f5row1_col3\" class=\"data row1 col3\" >0.630000</td>\n",
       "                        <td id=\"T_c77eebc0_ebe8_11eb_b917_18c04d3411f5row1_col4\" class=\"data row1 col4\" >0.545000</td>\n",
       "                        <td id=\"T_c77eebc0_ebe8_11eb_b917_18c04d3411f5row1_col5\" class=\"data row1 col5\" >0.970000</td>\n",
       "                        <td id=\"T_c77eebc0_ebe8_11eb_b917_18c04d3411f5row1_col6\" class=\"data row1 col6\" >-0.131000</td>\n",
       "                        <td id=\"T_c77eebc0_ebe8_11eb_b917_18c04d3411f5row1_col7\" class=\"data row1 col7\" >-0.807000</td>\n",
       "            </tr>\n",
       "            <tr>\n",
       "                        <th id=\"T_c77eebc0_ebe8_11eb_b917_18c04d3411f5level0_row2\" class=\"row_heading level0 row2\" >MAJORAXIS</th>\n",
       "                        <td id=\"T_c77eebc0_ebe8_11eb_b917_18c04d3411f5row2_col0\" class=\"data row2 col0\" >0.903000</td>\n",
       "                        <td id=\"T_c77eebc0_ebe8_11eb_b917_18c04d3411f5row2_col1\" class=\"data row2 col1\" >0.972000</td>\n",
       "                        <td id=\"T_c77eebc0_ebe8_11eb_b917_18c04d3411f5row2_col2\" class=\"data row2 col2\" >1.000000</td>\n",
       "                        <td id=\"T_c77eebc0_ebe8_11eb_b917_18c04d3411f5row2_col3\" class=\"data row2 col3\" >0.452000</td>\n",
       "                        <td id=\"T_c77eebc0_ebe8_11eb_b917_18c04d3411f5row2_col4\" class=\"data row2 col4\" >0.711000</td>\n",
       "                        <td id=\"T_c77eebc0_ebe8_11eb_b917_18c04d3411f5row2_col5\" class=\"data row2 col5\" >0.903000</td>\n",
       "                        <td id=\"T_c77eebc0_ebe8_11eb_b917_18c04d3411f5row2_col6\" class=\"data row2 col6\" >-0.140000</td>\n",
       "                        <td id=\"T_c77eebc0_ebe8_11eb_b917_18c04d3411f5row2_col7\" class=\"data row2 col7\" >-0.828000</td>\n",
       "            </tr>\n",
       "            <tr>\n",
       "                        <th id=\"T_c77eebc0_ebe8_11eb_b917_18c04d3411f5level0_row3\" class=\"row_heading level0 row3\" >MINORAXIS</th>\n",
       "                        <td id=\"T_c77eebc0_ebe8_11eb_b917_18c04d3411f5row3_col0\" class=\"data row3 col0\" >0.788000</td>\n",
       "                        <td id=\"T_c77eebc0_ebe8_11eb_b917_18c04d3411f5row3_col1\" class=\"data row3 col1\" >0.630000</td>\n",
       "                        <td id=\"T_c77eebc0_ebe8_11eb_b917_18c04d3411f5row3_col2\" class=\"data row3 col2\" >0.452000</td>\n",
       "                        <td id=\"T_c77eebc0_ebe8_11eb_b917_18c04d3411f5row3_col3\" class=\"data row3 col3\" >1.000000</td>\n",
       "                        <td id=\"T_c77eebc0_ebe8_11eb_b917_18c04d3411f5row3_col4\" class=\"data row3 col4\" >-0.292000</td>\n",
       "                        <td id=\"T_c77eebc0_ebe8_11eb_b917_18c04d3411f5row3_col5\" class=\"data row3 col5\" >0.787000</td>\n",
       "                        <td id=\"T_c77eebc0_ebe8_11eb_b917_18c04d3411f5row3_col6\" class=\"data row3 col6\" >0.063000</td>\n",
       "                        <td id=\"T_c77eebc0_ebe8_11eb_b917_18c04d3411f5row3_col7\" class=\"data row3 col7\" >-0.370000</td>\n",
       "            </tr>\n",
       "            <tr>\n",
       "                        <th id=\"T_c77eebc0_ebe8_11eb_b917_18c04d3411f5level0_row4\" class=\"row_heading level0 row4\" >ECCENTRICITY</th>\n",
       "                        <td id=\"T_c77eebc0_ebe8_11eb_b917_18c04d3411f5row4_col0\" class=\"data row4 col0\" >0.352000</td>\n",
       "                        <td id=\"T_c77eebc0_ebe8_11eb_b917_18c04d3411f5row4_col1\" class=\"data row4 col1\" >0.545000</td>\n",
       "                        <td id=\"T_c77eebc0_ebe8_11eb_b917_18c04d3411f5row4_col2\" class=\"data row4 col2\" >0.711000</td>\n",
       "                        <td id=\"T_c77eebc0_ebe8_11eb_b917_18c04d3411f5row4_col3\" class=\"data row4 col3\" >-0.292000</td>\n",
       "                        <td id=\"T_c77eebc0_ebe8_11eb_b917_18c04d3411f5row4_col4\" class=\"data row4 col4\" >1.000000</td>\n",
       "                        <td id=\"T_c77eebc0_ebe8_11eb_b917_18c04d3411f5row4_col5\" class=\"data row4 col5\" >0.353000</td>\n",
       "                        <td id=\"T_c77eebc0_ebe8_11eb_b917_18c04d3411f5row4_col6\" class=\"data row4 col6\" >-0.199000</td>\n",
       "                        <td id=\"T_c77eebc0_ebe8_11eb_b917_18c04d3411f5row4_col7\" class=\"data row4 col7\" >-0.589000</td>\n",
       "            </tr>\n",
       "            <tr>\n",
       "                        <th id=\"T_c77eebc0_ebe8_11eb_b917_18c04d3411f5level0_row5\" class=\"row_heading level0 row5\" >CONVEX_AREA</th>\n",
       "                        <td id=\"T_c77eebc0_ebe8_11eb_b917_18c04d3411f5row5_col0\" class=\"data row5 col0\" >0.999000</td>\n",
       "                        <td id=\"T_c77eebc0_ebe8_11eb_b917_18c04d3411f5row5_col1\" class=\"data row5 col1\" >0.970000</td>\n",
       "                        <td id=\"T_c77eebc0_ebe8_11eb_b917_18c04d3411f5row5_col2\" class=\"data row5 col2\" >0.903000</td>\n",
       "                        <td id=\"T_c77eebc0_ebe8_11eb_b917_18c04d3411f5row5_col3\" class=\"data row5 col3\" >0.787000</td>\n",
       "                        <td id=\"T_c77eebc0_ebe8_11eb_b917_18c04d3411f5row5_col4\" class=\"data row5 col4\" >0.353000</td>\n",
       "                        <td id=\"T_c77eebc0_ebe8_11eb_b917_18c04d3411f5row5_col5\" class=\"data row5 col5\" >1.000000</td>\n",
       "                        <td id=\"T_c77eebc0_ebe8_11eb_b917_18c04d3411f5row5_col6\" class=\"data row5 col6\" >-0.066000</td>\n",
       "                        <td id=\"T_c77eebc0_ebe8_11eb_b917_18c04d3411f5row5_col7\" class=\"data row5 col7\" >-0.750000</td>\n",
       "            </tr>\n",
       "            <tr>\n",
       "                        <th id=\"T_c77eebc0_ebe8_11eb_b917_18c04d3411f5level0_row6\" class=\"row_heading level0 row6\" >EXTENT</th>\n",
       "                        <td id=\"T_c77eebc0_ebe8_11eb_b917_18c04d3411f5row6_col0\" class=\"data row6 col0\" >-0.061000</td>\n",
       "                        <td id=\"T_c77eebc0_ebe8_11eb_b917_18c04d3411f5row6_col1\" class=\"data row6 col1\" >-0.131000</td>\n",
       "                        <td id=\"T_c77eebc0_ebe8_11eb_b917_18c04d3411f5row6_col2\" class=\"data row6 col2\" >-0.140000</td>\n",
       "                        <td id=\"T_c77eebc0_ebe8_11eb_b917_18c04d3411f5row6_col3\" class=\"data row6 col3\" >0.063000</td>\n",
       "                        <td id=\"T_c77eebc0_ebe8_11eb_b917_18c04d3411f5row6_col4\" class=\"data row6 col4\" >-0.199000</td>\n",
       "                        <td id=\"T_c77eebc0_ebe8_11eb_b917_18c04d3411f5row6_col5\" class=\"data row6 col5\" >-0.066000</td>\n",
       "                        <td id=\"T_c77eebc0_ebe8_11eb_b917_18c04d3411f5row6_col6\" class=\"data row6 col6\" >1.000000</td>\n",
       "                        <td id=\"T_c77eebc0_ebe8_11eb_b917_18c04d3411f5row6_col7\" class=\"data row6 col7\" >0.118000</td>\n",
       "            </tr>\n",
       "            <tr>\n",
       "                        <th id=\"T_c77eebc0_ebe8_11eb_b917_18c04d3411f5level0_row7\" class=\"row_heading level0 row7\" >CLASS</th>\n",
       "                        <td id=\"T_c77eebc0_ebe8_11eb_b917_18c04d3411f5row7_col0\" class=\"data row7 col0\" >-0.746000</td>\n",
       "                        <td id=\"T_c77eebc0_ebe8_11eb_b917_18c04d3411f5row7_col1\" class=\"data row7 col1\" >-0.807000</td>\n",
       "                        <td id=\"T_c77eebc0_ebe8_11eb_b917_18c04d3411f5row7_col2\" class=\"data row7 col2\" >-0.828000</td>\n",
       "                        <td id=\"T_c77eebc0_ebe8_11eb_b917_18c04d3411f5row7_col3\" class=\"data row7 col3\" >-0.370000</td>\n",
       "                        <td id=\"T_c77eebc0_ebe8_11eb_b917_18c04d3411f5row7_col4\" class=\"data row7 col4\" >-0.589000</td>\n",
       "                        <td id=\"T_c77eebc0_ebe8_11eb_b917_18c04d3411f5row7_col5\" class=\"data row7 col5\" >-0.750000</td>\n",
       "                        <td id=\"T_c77eebc0_ebe8_11eb_b917_18c04d3411f5row7_col6\" class=\"data row7 col6\" >0.118000</td>\n",
       "                        <td id=\"T_c77eebc0_ebe8_11eb_b917_18c04d3411f5row7_col7\" class=\"data row7 col7\" >1.000000</td>\n",
       "            </tr>\n",
       "    </tbody></table>"
      ],
      "text/plain": [
       "<pandas.io.formats.style.Styler at 0x25d7dec3430>"
      ]
     },
     "execution_count": 14,
     "metadata": {},
     "output_type": "execute_result"
    }
   ],
   "source": [
    "corr = round(df.corr(), 3)\n",
    "corr.style.background_gradient()"
   ]
  },
  {
   "cell_type": "code",
   "execution_count": 15,
   "metadata": {},
   "outputs": [
    {
     "name": "stdout",
     "output_type": "stream",
     "text": [
      "CLASS           1.000000\n",
      "EXTENT          0.117727\n",
      "MINORAXIS      -0.370355\n",
      "ECCENTRICITY   -0.588916\n",
      "AREA           -0.746400\n",
      "CONVEX_AREA    -0.750424\n",
      "PERIMETER      -0.806572\n",
      "MAJORAXIS      -0.827824\n",
      "Name: CLASS, dtype: float64\n"
     ]
    }
   ],
   "source": [
    "corr = df.corr()\n",
    "print(corr[\"CLASS\"].sort_values(ascending=False))"
   ]
  },
  {
   "cell_type": "markdown",
   "metadata": {},
   "source": [
    "Como se había interpretado en los gráficos de cajas, las variables **Major Axis**, **Perimete** y **Convex Area** tienen una fuerte correlación con la variable respuesta. La variable **Eccentricity** posee algo de correlación, y las variables **Minor Axis** y **Extent** una correlación muy baja."
   ]
  },
  {
   "cell_type": "markdown",
   "metadata": {},
   "source": [
    "## 4. Preprocesado"
   ]
  },
  {
   "cell_type": "markdown",
   "metadata": {},
   "source": [
    "Estandarizamos las variables numéricas para que se midan en la misma escala. Utilizaremos el escalador *MinMax*, el cual otorga valores entre 0 y 1, siendo estos el valor mínimo y máximo respectivamente."
   ]
  },
  {
   "cell_type": "code",
   "execution_count": 32,
   "metadata": {},
   "outputs": [
    {
     "data": {
      "text/html": [
       "<div>\n",
       "<style scoped>\n",
       "    .dataframe tbody tr th:only-of-type {\n",
       "        vertical-align: middle;\n",
       "    }\n",
       "\n",
       "    .dataframe tbody tr th {\n",
       "        vertical-align: top;\n",
       "    }\n",
       "\n",
       "    .dataframe thead th {\n",
       "        text-align: right;\n",
       "    }\n",
       "</style>\n",
       "<table border=\"1\" class=\"dataframe\">\n",
       "  <thead>\n",
       "    <tr style=\"text-align: right;\">\n",
       "      <th></th>\n",
       "      <th>AREA</th>\n",
       "      <th>PERIMETER</th>\n",
       "      <th>MAJORAXIS</th>\n",
       "      <th>MINORAXIS</th>\n",
       "      <th>ECCENTRICITY</th>\n",
       "      <th>CONVEX_AREA</th>\n",
       "      <th>EXTENT</th>\n",
       "      <th>CLASS</th>\n",
       "    </tr>\n",
       "  </thead>\n",
       "  <tbody>\n",
       "    <tr>\n",
       "      <th>0</th>\n",
       "      <td>0.675937</td>\n",
       "      <td>0.879232</td>\n",
       "      <td>0.901216</td>\n",
       "      <td>0.532417</td>\n",
       "      <td>0.888011</td>\n",
       "      <td>0.693917</td>\n",
       "      <td>0.207577</td>\n",
       "      <td>Cammeo</td>\n",
       "    </tr>\n",
       "    <tr>\n",
       "      <th>1</th>\n",
       "      <td>0.625330</td>\n",
       "      <td>0.714095</td>\n",
       "      <td>0.648087</td>\n",
       "      <td>0.670663</td>\n",
       "      <td>0.691980</td>\n",
       "      <td>0.646009</td>\n",
       "      <td>0.324564</td>\n",
       "      <td>Cammeo</td>\n",
       "    </tr>\n",
       "    <tr>\n",
       "      <th>2</th>\n",
       "      <td>0.623394</td>\n",
       "      <td>0.750066</td>\n",
       "      <td>0.734349</td>\n",
       "      <td>0.588124</td>\n",
       "      <td>0.789846</td>\n",
       "      <td>0.635636</td>\n",
       "      <td>0.538576</td>\n",
       "      <td>Cammeo</td>\n",
       "    </tr>\n",
       "    <tr>\n",
       "      <th>3</th>\n",
       "      <td>0.495071</td>\n",
       "      <td>0.524136</td>\n",
       "      <td>0.512800</td>\n",
       "      <td>0.581461</td>\n",
       "      <td>0.671227</td>\n",
       "      <td>0.496220</td>\n",
       "      <td>0.393954</td>\n",
       "      <td>Cammeo</td>\n",
       "    </tr>\n",
       "    <tr>\n",
       "      <th>4</th>\n",
       "      <td>0.628146</td>\n",
       "      <td>0.781992</td>\n",
       "      <td>0.709138</td>\n",
       "      <td>0.620288</td>\n",
       "      <td>0.758067</td>\n",
       "      <td>0.662711</td>\n",
       "      <td>0.408680</td>\n",
       "      <td>Cammeo</td>\n",
       "    </tr>\n",
       "    <tr>\n",
       "      <th>5</th>\n",
       "      <td>0.521739</td>\n",
       "      <td>0.622754</td>\n",
       "      <td>0.584436</td>\n",
       "      <td>0.564838</td>\n",
       "      <td>0.726665</td>\n",
       "      <td>0.532964</td>\n",
       "      <td>0.441332</td>\n",
       "      <td>Cammeo</td>\n",
       "    </tr>\n",
       "    <tr>\n",
       "      <th>6</th>\n",
       "      <td>0.722232</td>\n",
       "      <td>0.793157</td>\n",
       "      <td>0.661705</td>\n",
       "      <td>0.808242</td>\n",
       "      <td>0.603667</td>\n",
       "      <td>0.740770</td>\n",
       "      <td>0.253812</td>\n",
       "      <td>Cammeo</td>\n",
       "    </tr>\n",
       "    <tr>\n",
       "      <th>7</th>\n",
       "      <td>0.779264</td>\n",
       "      <td>0.884466</td>\n",
       "      <td>0.814414</td>\n",
       "      <td>0.747850</td>\n",
       "      <td>0.733647</td>\n",
       "      <td>0.801160</td>\n",
       "      <td>0.444057</td>\n",
       "      <td>Cammeo</td>\n",
       "    </tr>\n",
       "    <tr>\n",
       "      <th>8</th>\n",
       "      <td>0.614593</td>\n",
       "      <td>0.657743</td>\n",
       "      <td>0.548144</td>\n",
       "      <td>0.739809</td>\n",
       "      <td>0.575004</td>\n",
       "      <td>0.633703</td>\n",
       "      <td>0.418655</td>\n",
       "      <td>Cammeo</td>\n",
       "    </tr>\n",
       "    <tr>\n",
       "      <th>9</th>\n",
       "      <td>0.522267</td>\n",
       "      <td>0.593992</td>\n",
       "      <td>0.565445</td>\n",
       "      <td>0.587270</td>\n",
       "      <td>0.700086</td>\n",
       "      <td>0.528393</td>\n",
       "      <td>0.205994</td>\n",
       "      <td>Cammeo</td>\n",
       "    </tr>\n",
       "  </tbody>\n",
       "</table>\n",
       "</div>"
      ],
      "text/plain": [
       "       AREA  PERIMETER  MAJORAXIS  MINORAXIS  ECCENTRICITY  CONVEX_AREA  \\\n",
       "0  0.675937   0.879232   0.901216   0.532417      0.888011     0.693917   \n",
       "1  0.625330   0.714095   0.648087   0.670663      0.691980     0.646009   \n",
       "2  0.623394   0.750066   0.734349   0.588124      0.789846     0.635636   \n",
       "3  0.495071   0.524136   0.512800   0.581461      0.671227     0.496220   \n",
       "4  0.628146   0.781992   0.709138   0.620288      0.758067     0.662711   \n",
       "5  0.521739   0.622754   0.584436   0.564838      0.726665     0.532964   \n",
       "6  0.722232   0.793157   0.661705   0.808242      0.603667     0.740770   \n",
       "7  0.779264   0.884466   0.814414   0.747850      0.733647     0.801160   \n",
       "8  0.614593   0.657743   0.548144   0.739809      0.575004     0.633703   \n",
       "9  0.522267   0.593992   0.565445   0.587270      0.700086     0.528393   \n",
       "\n",
       "     EXTENT   CLASS  \n",
       "0  0.207577  Cammeo  \n",
       "1  0.324564  Cammeo  \n",
       "2  0.538576  Cammeo  \n",
       "3  0.393954  Cammeo  \n",
       "4  0.408680  Cammeo  \n",
       "5  0.441332  Cammeo  \n",
       "6  0.253812  Cammeo  \n",
       "7  0.444057  Cammeo  \n",
       "8  0.418655  Cammeo  \n",
       "9  0.205994  Cammeo  "
      ]
     },
     "execution_count": 32,
     "metadata": {},
     "output_type": "execute_result"
    }
   ],
   "source": [
    "scaler = MinMaxScaler()\n",
    "df[features] = scaler.fit_transform(df[features])\n",
    "df.head(10)"
   ]
  },
  {
   "cell_type": "markdown",
   "metadata": {},
   "source": [
    "## 5. División de datos de entrenamiento y test\n",
    "\n",
    "\n",
    "#### 5.1. SEPARACIÓN DE DATOS\n",
    "Dadas las circunstancias de correlación entre variables independientes y respuesta, se opta por prescindir de las variables **minoraxis** y **extent**.\n",
    "\n",
    "Seguidamente se hacen las particiones correspondientes a los grupos de entrenamiento y test, siendo el tamaño de los datos de entrenamiento de un 80% con respecto al dataset completo."
   ]
  },
  {
   "cell_type": "code",
   "execution_count": 17,
   "metadata": {},
   "outputs": [
    {
     "name": "stdout",
     "output_type": "stream",
     "text": [
      "Datos de entrenamiento: 3048\n",
      "Datos de test: 762\n"
     ]
    }
   ],
   "source": [
    "X_train, X_test, y_train, y_test = train_test_split(\n",
    "                                         df.drop(columns = ['MINORAXIS', 'EXTENT', 'CLASS'], axis = 'columns'),\n",
    "                                         df[label],\n",
    "                                         train_size      = 0.8,\n",
    "                                         random_state    = 0\n",
    "                                     )\n",
    "\n",
    "\n",
    "print ('Datos de entrenamiento: %d\\nDatos de test: %d' % (X_train.shape[0], X_test.shape[0]))"
   ]
  },
  {
   "cell_type": "code",
   "execution_count": 18,
   "metadata": {},
   "outputs": [
    {
     "name": "stdout",
     "output_type": "stream",
     "text": [
      "Partición datos de entrenamento\n",
      "-----------------------\n",
      "count    3048.000000\n",
      "mean        0.575787\n",
      "std         0.494304\n",
      "min         0.000000\n",
      "25%         0.000000\n",
      "50%         1.000000\n",
      "75%         1.000000\n",
      "max         1.000000\n",
      "Name: CLASS, dtype: float64\n"
     ]
    }
   ],
   "source": [
    "print(\"Partición datos de entrenamento\")\n",
    "print(\"-----------------------\")\n",
    "print(y_train.describe())"
   ]
  },
  {
   "cell_type": "code",
   "execution_count": 19,
   "metadata": {},
   "outputs": [
    {
     "name": "stdout",
     "output_type": "stream",
     "text": [
      "Partición datos de test\n",
      "-----------------------\n",
      "count    762.000000\n",
      "mean       0.557743\n",
      "std        0.496981\n",
      "min        0.000000\n",
      "25%        0.000000\n",
      "50%        1.000000\n",
      "75%        1.000000\n",
      "max        1.000000\n",
      "Name: CLASS, dtype: float64\n"
     ]
    }
   ],
   "source": [
    "print(\"Partición datos de test\")\n",
    "print(\"-----------------------\")\n",
    "print(y_test.describe())"
   ]
  },
  {
   "cell_type": "markdown",
   "metadata": {},
   "source": [
    "#### 5.2. DISTRIBUCIÓN DE LA VARIABLE RESPUESTA\n",
    "\n",
    "Comprobamos que la distribución de la variable respuesta sea similar en los sets de entrenamiento y test. Una distribución muy dispar entre ambos sets podría dar problemas al modelo a la hora de enfrentarlo a los datos de test."
   ]
  },
  {
   "cell_type": "code",
   "execution_count": 20,
   "metadata": {},
   "outputs": [
    {
     "data": {
      "image/png": "[encoded data removed]",
      "text/plain": [
       "<Figure size 864x360 with 2 Axes>"
      ]
     },
     "metadata": {
      "needs_background": "light"
     },
     "output_type": "display_data"
    }
   ],
   "source": [
    "fig, axes = plt.subplots(nrows=1, ncols=2, figsize=(12, 5))\n",
    "axes = axes.flat\n",
    "dt = [y_train, y_test]\n",
    "title = [\"Entrenamiento\", \"Test\"]\n",
    "\n",
    "for i, d in enumerate(dt):\n",
    "    sns.countplot(\n",
    "        x        = d,\n",
    "        color    = (list(plt.rcParams['axes.prop_cycle'])*2)[i][\"color\"],\n",
    "        palette  = \"pastel\",\n",
    "        ax       = axes[i]\n",
    "    )\n",
    "    axes[i].set_title(title[i], fontsize = 7, fontweight = \"bold\")\n",
    "    axes[i].tick_params(labelsize = 6)\n",
    "    axes[i].set_xlabel(\"\")\n",
    "\n",
    "\n",
    "    \n",
    "fig.tight_layout()\n",
    "plt.subplots_adjust(top = 0.9)\n",
    "fig.suptitle('Distribución de la variable respuesta en el set de entrenamiento y test', fontsize = 10, fontweight = \"bold\");"
   ]
  },
  {
   "cell_type": "markdown",
   "metadata": {},
   "source": [
    "## 6. Creación de un modelo"
   ]
  },
  {
   "cell_type": "markdown",
   "metadata": {},
   "source": [
    "### LOGISTIC REGRESSION"
   ]
  },
  {
   "cell_type": "code",
   "execution_count": 21,
   "metadata": {},
   "outputs": [],
   "source": [
    "# Create classifier\n",
    "model = LogisticRegression(random_state=0)\n",
    "model = model.fit(X_train, y_train)\n",
    "pred = model.predict(X_test)"
   ]
  },
  {
   "cell_type": "markdown",
   "metadata": {},
   "source": [
    "## 7. Evaluación del modelo"
   ]
  },
  {
   "cell_type": "markdown",
   "metadata": {},
   "source": [
    "En primer lugar creamos los métodos que nos van a servir para calcular y mostrar diferentes marcadores y métricas de la calidad de los modelos."
   ]
  },
  {
   "cell_type": "code",
   "execution_count": 22,
   "metadata": {},
   "outputs": [],
   "source": [
    "# PRECISIÓN DEL CLASIFICADOR y MATRIZ DE CONFUSIÓN\n",
    "\n",
    "def get_accuracy_scores(y_test, predictions, clf_name):  \n",
    "    print('%s accuracy score: %.4f' % (clf_name, accuracy_score(y_test, predictions)))\n",
    "    print('Overall Precision: ', precision_score(y_test, predictions))\n",
    "    print('Overall Recall: ', recall_score(y_test, predictions))\n",
    "    print('Classification report:\\n', classification_report(y_test, predictions))\n",
    "    \n",
    "    cm = confusion_matrix(y_test, predictions)\n",
    "    print ('\\n\\nConfusion Matrix:\\n', cm)"
   ]
  },
  {
   "cell_type": "code",
   "execution_count": 23,
   "metadata": {},
   "outputs": [],
   "source": [
    "# MATRIZ DE CONFUSIÓN y MATRIZ DE PROBABILIDADES\n",
    "\n",
    "def get_pred_proba(X_test, y_test, predictions, clf):  \n",
    "    y_scores = pd.DataFrame(data=clf.predict_proba(X_test))\n",
    "    print('\\nPredict proba:\\n', y_scores) "
   ]
  },
  {
   "cell_type": "code",
   "execution_count": 24,
   "metadata": {},
   "outputs": [],
   "source": [
    "# CURVA ROC\n",
    "\n",
    "def get_roc(X_test, y_test, clf):\n",
    "    \n",
    "    \n",
    "    # calculate ROC curve\n",
    "    y_scores = clf.predict_proba(X_test)\n",
    "    fpr, tpr, thresholds = roc_curve(y_test, y_scores[:,1])\n",
    "\n",
    "    # plot ROC curve\n",
    "    print('\\n\\nROC Curve')\n",
    "    fig = plt.figure(figsize=(6, 6))\n",
    "    # Plot the diagonal 50% line\n",
    "    plt.plot([0, 1], [0, 1], 'k--')\n",
    "    # Plot the FPR and TPR achieved by our model\n",
    "    plt.plot(fpr, tpr)\n",
    "    plt.xlabel('False Positive Rate')\n",
    "    plt.ylabel('True Positive Rate')\n",
    "    plt.title('ROC Curve')\n",
    "    plt.show()\n",
    "    \n",
    "    \n",
    "\n",
    "    auc = roc_auc_score(y_test, y_scores[:,1])\n",
    "    print('\\nROC AUC Score: ' + str(auc))\n",
    "    return auc"
   ]
  },
  {
   "cell_type": "code",
   "execution_count": 25,
   "metadata": {},
   "outputs": [
    {
     "name": "stdout",
     "output_type": "stream",
     "text": [
      "Logistic Regression accuracy score: 0.9383\n",
      "Overall Precision:  0.9354838709677419\n",
      "Overall Recall:  0.9552941176470588\n",
      "Classification report:\n",
      "               precision    recall  f1-score   support\n",
      "\n",
      "           0       0.94      0.92      0.93       337\n",
      "           1       0.94      0.96      0.95       425\n",
      "\n",
      "    accuracy                           0.94       762\n",
      "   macro avg       0.94      0.94      0.94       762\n",
      "weighted avg       0.94      0.94      0.94       762\n",
      "\n",
      "\n",
      "\n",
      "Confusion Matrix:\n",
      " [[309  28]\n",
      " [ 19 406]]\n",
      "\n",
      "\n",
      "ROC Curve\n"
     ]
    },
    {
     "data": {
      "image/png": "[encoded data removed]",
      "text/plain": [
       "<Figure size 432x432 with 1 Axes>"
      ]
     },
     "metadata": {
      "needs_background": "light"
     },
     "output_type": "display_data"
    },
    {
     "name": "stdout",
     "output_type": "stream",
     "text": [
      "\n",
      "ROC AUC Score: 0.9828521556990748\n"
     ]
    }
   ],
   "source": [
    "# LOGISTIC REGRESSION\n",
    "\n",
    "# Accuracy scores\n",
    "get_accuracy_scores(y_test, pred, 'Logistic Regression')\n",
    "\n",
    "# Predict proba\n",
    "#get_pred_proba(X_test, y_test, pred, clf)\n",
    "\n",
    "# ROC curve\n",
    "auc_lr = get_roc(X_test, y_test, model)"
   ]
  },
  {
   "cell_type": "markdown",
   "metadata": {},
   "source": [
    "## 8. Utilización de otros algoritmos e hiperparámetros\n",
    "\n",
    "En esta sección se utilizarán diversos algoritmos de clasificación para crear diferentes modelos a los que se le aplicará la técnica de validación cruzada, o cross validation, para tratar de encontrar los mejores hiperparámetros de cada uno de ellos."
   ]
  },
  {
   "cell_type": "markdown",
   "metadata": {},
   "source": [
    "### K NEIGHBORS con GridSearchCV"
   ]
  },
  {
   "cell_type": "code",
   "execution_count": 26,
   "metadata": {},
   "outputs": [
    {
     "name": "stdout",
     "output_type": "stream",
     "text": [
      "Mejor parámetro: {'algorithm': 'ball_tree', 'n_neighbors': 25, 'weights': 'uniform'} \n",
      "\n",
      "K Neighbors accuracy score: 0.9318\n",
      "Overall Precision:  0.930715935334873\n",
      "Overall Recall:  0.9482352941176471\n",
      "Classification report:\n",
      "               precision    recall  f1-score   support\n",
      "\n",
      "           0       0.93      0.91      0.92       337\n",
      "           1       0.93      0.95      0.94       425\n",
      "\n",
      "    accuracy                           0.93       762\n",
      "   macro avg       0.93      0.93      0.93       762\n",
      "weighted avg       0.93      0.93      0.93       762\n",
      "\n",
      "\n",
      "\n",
      "Confusion Matrix:\n",
      " [[307  30]\n",
      " [ 22 403]]\n",
      "\n",
      "\n",
      "ROC Curve\n"
     ]
    },
    {
     "data": {
      "image/png": "[encoded data removed]",
      "text/plain": [
       "<Figure size 432x432 with 1 Axes>"
      ]
     },
     "metadata": {
      "needs_background": "light"
     },
     "output_type": "display_data"
    },
    {
     "name": "stdout",
     "output_type": "stream",
     "text": [
      "\n",
      "ROC AUC Score: 0.979916215744458\n"
     ]
    }
   ],
   "source": [
    "# modelo\n",
    "model = KNeighborsClassifier()\n",
    "\n",
    "# parámetros\n",
    "params = {\n",
    " 'n_neighbors' : [1, 5, 10, 15, 20, 25, 30],\n",
    " 'weights'     : ['uniform', 'distance'] ,\n",
    " 'algorithm'   : ['ball_tree', 'kd_tree', 'brute'] \n",
    "}\n",
    "\n",
    "# gridsearchCV\n",
    "gridsearch = GridSearchCV(model, params, cv=5)\n",
    "gridsearch.fit(X_train, y_train)\n",
    "\n",
    "# Evaluación del mejor modelo\n",
    "model = gridsearch.best_estimator_\n",
    "pred = model.predict(X_test)\n",
    "\n",
    "# Métricas\n",
    "print(\"Mejor parámetro:\", gridsearch.best_params_, \"\\n\")\n",
    "get_accuracy_scores(y_test, pred, 'K Neighbors')\n",
    "auc_kn = get_roc(X_test, y_test, model)"
   ]
  },
  {
   "cell_type": "markdown",
   "metadata": {},
   "source": [
    "### DECISION TREE con GridSearchCV"
   ]
  },
  {
   "cell_type": "code",
   "execution_count": 27,
   "metadata": {},
   "outputs": [
    {
     "name": "stdout",
     "output_type": "stream",
     "text": [
      "Mejor parámetro: {'max_depth': None, 'max_features': 'auto', 'min_samples_split': 50} \n",
      "\n",
      "Decision Tree accuracy score: 0.9304\n",
      "Overall Precision:  0.9246575342465754\n",
      "Overall Recall:  0.9529411764705882\n",
      "Classification report:\n",
      "               precision    recall  f1-score   support\n",
      "\n",
      "           0       0.94      0.90      0.92       337\n",
      "           1       0.92      0.95      0.94       425\n",
      "\n",
      "    accuracy                           0.93       762\n",
      "   macro avg       0.93      0.93      0.93       762\n",
      "weighted avg       0.93      0.93      0.93       762\n",
      "\n",
      "\n",
      "\n",
      "Confusion Matrix:\n",
      " [[304  33]\n",
      " [ 20 405]]\n",
      "\n",
      "\n",
      "ROC Curve\n"
     ]
    },
    {
     "data": {
      "image/png": "[encoded data removed]",
      "text/plain": [
       "<Figure size 432x432 with 1 Axes>"
      ]
     },
     "metadata": {
      "needs_background": "light"
     },
     "output_type": "display_data"
    },
    {
     "name": "stdout",
     "output_type": "stream",
     "text": [
      "\n",
      "ROC AUC Score: 0.9646884272997033\n"
     ]
    }
   ],
   "source": [
    "# modelo\n",
    "model = tree.DecisionTreeClassifier()\n",
    "\n",
    "# parámetros\n",
    "params = {\n",
    " 'max_depth': [10, 50, 100, None],\n",
    " 'max_features': ['auto', 'sqrt'],\n",
    " 'min_samples_split': [10, 20, 30, 40, 50]\n",
    "}\n",
    "\n",
    "# gridsearchCV\n",
    "gridsearch = GridSearchCV(model, params, cv=5)\n",
    "gridsearch.fit(X_train, y_train)\n",
    "\n",
    "# Evaluación del mejor modelo\n",
    "model = gridsearch.best_estimator_\n",
    "pred = model.predict(X_test)\n",
    "\n",
    "# Métricas\n",
    "print(\"Mejor parámetro:\", gridsearch.best_params_, \"\\n\")\n",
    "get_accuracy_scores(y_test, pred, 'Decision Tree')\n",
    "auc_dt = get_roc(X_test, y_test, model)"
   ]
  },
  {
   "cell_type": "markdown",
   "metadata": {},
   "source": [
    "### SUPPORT VECTOR MACHINE con GridSearchCV"
   ]
  },
  {
   "cell_type": "code",
   "execution_count": 28,
   "metadata": {},
   "outputs": [
    {
     "name": "stdout",
     "output_type": "stream",
     "text": [
      "Mejor parámetro: {'C': 10, 'gamma': 1, 'kernel': 'poly', 'probability': True} \n",
      "\n",
      "SVM accuracy score: 0.9344\n",
      "Overall Precision:  0.9271070615034168\n",
      "Overall Recall:  0.9576470588235294\n",
      "Classification report:\n",
      "               precision    recall  f1-score   support\n",
      "\n",
      "           0       0.94      0.91      0.92       337\n",
      "           1       0.93      0.96      0.94       425\n",
      "\n",
      "    accuracy                           0.93       762\n",
      "   macro avg       0.94      0.93      0.93       762\n",
      "weighted avg       0.93      0.93      0.93       762\n",
      "\n",
      "\n",
      "\n",
      "Confusion Matrix:\n",
      " [[305  32]\n",
      " [ 18 407]]\n",
      "\n",
      "\n",
      "ROC Curve\n"
     ]
    },
    {
     "data": {
      "image/png": "[encoded data removed]",
      "text/plain": [
       "<Figure size 432x432 with 1 Axes>"
      ]
     },
     "metadata": {
      "needs_background": "light"
     },
     "output_type": "display_data"
    },
    {
     "name": "stdout",
     "output_type": "stream",
     "text": [
      "\n",
      "ROC AUC Score: 0.9832361668703089\n"
     ]
    }
   ],
   "source": [
    "# modelo\n",
    "model = svm.SVC()\n",
    "\n",
    "# parámetros\n",
    "params = {\n",
    " 'C'          : [0.1, 1, 10, 100], \n",
    " 'gamma'      : [1, 0.1, 0.01, 0.001],\n",
    " 'kernel'     : ['rbf', 'poly', 'sigmoid'],\n",
    " 'probability': [True]\n",
    "}\n",
    "\n",
    "# gridsearchCV\n",
    "gridsearch = GridSearchCV(model, params, cv=5)\n",
    "gridsearch.fit(X_train, y_train)\n",
    "\n",
    "# Evaluación del mejor modelo\n",
    "model = gridsearch.best_estimator_\n",
    "pred = model.predict(X_test)\n",
    "\n",
    "# Métricas\n",
    "print(\"Mejor parámetro:\", gridsearch.best_params_, \"\\n\")\n",
    "get_accuracy_scores(y_test, pred, 'SVM')\n",
    "auc_svm = get_roc(X_test, y_test, model)"
   ]
  },
  {
   "cell_type": "markdown",
   "metadata": {},
   "source": [
    "### GAUSSIAN NAIVE BAYES con GridSearchCV"
   ]
  },
  {
   "cell_type": "code",
   "execution_count": 29,
   "metadata": {},
   "outputs": [
    {
     "name": "stdout",
     "output_type": "stream",
     "text": [
      "Mejor parámetro: {'var_smoothing': 0.533669923120631} \n",
      "\n",
      "SVM accuracy score: 0.9278\n",
      "Overall Precision:  0.9147982062780269\n",
      "Overall Recall:  0.96\n",
      "Classification report:\n",
      "               precision    recall  f1-score   support\n",
      "\n",
      "           0       0.95      0.89      0.92       337\n",
      "           1       0.91      0.96      0.94       425\n",
      "\n",
      "    accuracy                           0.93       762\n",
      "   macro avg       0.93      0.92      0.93       762\n",
      "weighted avg       0.93      0.93      0.93       762\n",
      "\n",
      "\n",
      "\n",
      "Confusion Matrix:\n",
      " [[299  38]\n",
      " [ 17 408]]\n",
      "\n",
      "\n",
      "ROC Curve\n"
     ]
    },
    {
     "data": {
      "image/png": "[encoded data removed]",
      "text/plain": [
       "<Figure size 432x432 with 1 Axes>"
      ]
     },
     "metadata": {
      "needs_background": "light"
     },
     "output_type": "display_data"
    },
    {
     "name": "stdout",
     "output_type": "stream",
     "text": [
      "\n",
      "ROC AUC Score: 0.9805969628207366\n"
     ]
    }
   ],
   "source": [
    "# modelo\n",
    "model = GaussianNB()\n",
    "\n",
    "# parámetros\n",
    "params = {\n",
    " 'var_smoothing': np.logspace(0,-9, num=100)\n",
    "}\n",
    "\n",
    "# gridsearchCV\n",
    "gridsearch = GridSearchCV(model, params, cv=5)\n",
    "gridsearch.fit(X_train, y_train)\n",
    "\n",
    "# Evaluación del mejor modelo\n",
    "model = gridsearch.best_estimator_\n",
    "pred = model.predict(X_test)\n",
    "\n",
    "# Métricas\n",
    "print(\"Mejor parámetro:\", gridsearch.best_params_, \"\\n\")\n",
    "get_accuracy_scores(y_test, pred, 'SVM')\n",
    "auc_gnb = get_roc(X_test, y_test, model)"
   ]
  },
  {
   "cell_type": "markdown",
   "metadata": {},
   "source": [
    "## 9. Comparativa de resultados\n",
    "\n",
    "En esta última parte se compararán los resultados de la evaluación de cada uno de los modelos creados anteriormente."
   ]
  },
  {
   "cell_type": "code",
   "execution_count": 30,
   "metadata": {},
   "outputs": [
    {
     "data": {
      "image/png": "[encoded data removed]",
      "text/plain": [
       "<Figure size 864x360 with 1 Axes>"
      ]
     },
     "metadata": {
      "needs_background": "light"
     },
     "output_type": "display_data"
    }
   ],
   "source": [
    "auc = pd.DataFrame({\n",
    "                        'modelo': ['Linear Regression', 'K Neighbors', 'Support Vector Machine', 'Decision Tree', 'Gaussian Naive Bayes'],\n",
    "                        'auc': [auc_lr, auc_kn, auc_svm, auc_dt, auc_gnb]\n",
    "                     })\n",
    "auc = auc.sort_values('auc', ascending=True)\n",
    "\n",
    "\n",
    "fig, axe = plt.subplots(nrows=1, ncols=1, figsize=(12, 5))\n",
    "\n",
    "\n",
    "axe.hlines(auc.modelo, xmin=0, xmax=auc.auc)\n",
    "axe.plot(auc.auc, auc.modelo, \"o\", color='black')\n",
    "axe.tick_params(axis='y', which='major', labelsize=12)\n",
    "axe.set_title('ROC AUC Score')\n",
    "\n",
    "for i, val in enumerate(auc.auc):\n",
    "    axe.text(0.91, i+0.05, \"%.4f\" % val)\n",
    "\n",
    "\n",
    "fig.tight_layout()"
   ]
  },
  {
   "cell_type": "markdown",
   "metadata": {},
   "source": [
    "### FUENTES\n",
    "\n",
    "* Creación de modelos de Machine Learning: https://docs.microsoft.com/es-es/learn/paths/create-machine-learn-models/"
   ]
  }
 ],
 "metadata": {
  "kernelspec": {
   "display_name": "Python 3",
   "language": "python",
   "name": "python3"
  },
  "language_info": {
   "codemirror_mode": {
    "name": "ipython",
    "version": 3
   },
   "file_extension": ".py",
   "mimetype": "text/x-python",
   "name": "python",
   "nbconvert_exporter": "python",
   "pygments_lexer": "ipython3",
   "version": "3.8.5"
  }
 },
 "nbformat": 4,
 "nbformat_minor": 4
}
